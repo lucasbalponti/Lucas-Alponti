{
 "cells": [
  {
   "cell_type": "code",
   "execution_count": 2,
   "id": "47b2c29a",
   "metadata": {},
   "outputs": [],
   "source": [
    "# Importando as bibliotecas que serão utilizadas\n",
    "\n",
    "from sklearn import datasets\n",
    "import numpy as np\n",
    "from sklearn.metrics import confusion_matrix\n",
    "import skfuzzy\n",
    "from yellowbrick.classifier import ConfusionMatrix"
   ]
  },
  {
   "cell_type": "code",
   "execution_count": 5,
   "id": "9fa4d6ed",
   "metadata": {},
   "outputs": [],
   "source": [
    "# Importando a base de dadosd que será utilizada\n",
    "\n",
    "iris = datasets.load_iris()"
   ]
  },
  {
   "cell_type": "code",
   "execution_count": 7,
   "id": "4183e224",
   "metadata": {},
   "outputs": [],
   "source": [
    "# Aplicaçao do algoritmo definindo três clusters e passando a matriz transposta\n",
    "\n",
    "r = skfuzzy.cmeans(data = iris.data.T, c =3, m = 2, error = 0.005, maxiter = 1000, init = None)"
   ]
  },
  {
   "cell_type": "code",
   "execution_count": null,
   "id": "cd072151",
   "metadata": {
    "scrolled": false
   },
   "outputs": [],
   "source": [
    "# A função skfuzzy.cmeans retorna:\n",
    "\n",
    "#cntr : 2d array, size (S, c)\n",
    "#Cluster centers. Data for each center along each feature provided for every cluster (of the c requested clusters).\n",
    "\n",
    "#u : 2d array, (S, N)\n",
    "#Final fuzzy c-partitioned matrix.\n",
    "\n",
    "#u0 : 2d array, (S, N)\n",
    "#Initial guess at fuzzy c-partitioned matrix (either provided init or random guess used if init was not provided).\n",
    "\n",
    "#d : 2d array, (S, N)\n",
    "#Final Euclidian distance matrix.\n",
    "\n",
    "#jm : 1d array, length P\n",
    "#Objective function history.\n",
    "\n",
    "#p : int\n",
    "#Number of iterations run.\n",
    "\n",
    "#fpc : float\n",
    "#Final fuzzy partition coefficient.\n",
    "\n",
    "r"
   ]
  },
  {
   "cell_type": "code",
   "execution_count": 14,
   "id": "928af0c4",
   "metadata": {},
   "outputs": [],
   "source": [
    "# Criando a matriz com os valores previstos em porcentagem\n",
    "\n",
    "previsoes_porcentagem = r[1]"
   ]
  },
  {
   "cell_type": "code",
   "execution_count": null,
   "id": "cd035a8d",
   "metadata": {
    "scrolled": false
   },
   "outputs": [],
   "source": [
    "# Printando a chance em % para cada categoria em cada entrada\n",
    "\n",
    "for x in range(150):\n",
    "    print(previsoes_porcentagem[0][x], previsoes_porcentagem[1][x], previsoes_porcentagem[2][x])"
   ]
  }
 ],
 "metadata": {
  "kernelspec": {
   "display_name": "Python 3 (ipykernel)",
   "language": "python",
   "name": "python3"
  },
  "language_info": {
   "codemirror_mode": {
    "name": "ipython",
    "version": 3
   },
   "file_extension": ".py",
   "mimetype": "text/x-python",
   "name": "python",
   "nbconvert_exporter": "python",
   "pygments_lexer": "ipython3",
   "version": "3.8.11"
  }
 },
 "nbformat": 4,
 "nbformat_minor": 5
}

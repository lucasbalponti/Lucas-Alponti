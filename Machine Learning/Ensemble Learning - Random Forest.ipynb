{
 "cells": [
  {
   "cell_type": "code",
   "execution_count": 1,
   "id": "864aca24",
   "metadata": {},
   "outputs": [],
   "source": [
    "# Importação das bibliotecas que serão utilizadas\n",
    "\n",
    "import pandas as pd\n",
    "from sklearn.model_selection import train_test_split\n",
    "from sklearn.preprocessing import LabelEncoder\n",
    "from sklearn.metrics import confusion_matrix, accuracy_score\n",
    "from sklearn.ensemble import RandomForestClassifier\n",
    "from yellowbrick.classifier import ConfusionMatrix"
   ]
  },
  {
   "cell_type": "code",
   "execution_count": 2,
   "id": "13e2dcf5",
   "metadata": {},
   "outputs": [
    {
     "name": "stdout",
     "output_type": "stream",
     "text": [
      "(1000, 21)\n"
     ]
    },
    {
     "data": {
      "text/html": [
       "<div>\n",
       "<style scoped>\n",
       "    .dataframe tbody tr th:only-of-type {\n",
       "        vertical-align: middle;\n",
       "    }\n",
       "\n",
       "    .dataframe tbody tr th {\n",
       "        vertical-align: top;\n",
       "    }\n",
       "\n",
       "    .dataframe thead th {\n",
       "        text-align: right;\n",
       "    }\n",
       "</style>\n",
       "<table border=\"1\" class=\"dataframe\">\n",
       "  <thead>\n",
       "    <tr style=\"text-align: right;\">\n",
       "      <th></th>\n",
       "      <th>checking_status</th>\n",
       "      <th>duration</th>\n",
       "      <th>credit_history</th>\n",
       "      <th>purpose</th>\n",
       "      <th>credit_amount</th>\n",
       "      <th>savings_status</th>\n",
       "      <th>employment</th>\n",
       "      <th>installment_commitment</th>\n",
       "      <th>personal_status</th>\n",
       "      <th>other_parties</th>\n",
       "      <th>...</th>\n",
       "      <th>property_magnitude</th>\n",
       "      <th>age</th>\n",
       "      <th>other_payment_plans</th>\n",
       "      <th>housing</th>\n",
       "      <th>existing_credits</th>\n",
       "      <th>job</th>\n",
       "      <th>num_dependents</th>\n",
       "      <th>own_telephone</th>\n",
       "      <th>foreign_worker</th>\n",
       "      <th>class</th>\n",
       "    </tr>\n",
       "  </thead>\n",
       "  <tbody>\n",
       "    <tr>\n",
       "      <th>0</th>\n",
       "      <td>&lt;0</td>\n",
       "      <td>6</td>\n",
       "      <td>'critical/other existing credit'</td>\n",
       "      <td>radio/tv</td>\n",
       "      <td>1169</td>\n",
       "      <td>'no known savings'</td>\n",
       "      <td>&gt;=7</td>\n",
       "      <td>4</td>\n",
       "      <td>'male single'</td>\n",
       "      <td>none</td>\n",
       "      <td>...</td>\n",
       "      <td>'real estate'</td>\n",
       "      <td>67</td>\n",
       "      <td>none</td>\n",
       "      <td>own</td>\n",
       "      <td>2</td>\n",
       "      <td>skilled</td>\n",
       "      <td>1</td>\n",
       "      <td>yes</td>\n",
       "      <td>yes</td>\n",
       "      <td>good</td>\n",
       "    </tr>\n",
       "    <tr>\n",
       "      <th>1</th>\n",
       "      <td>0&lt;=X&lt;200</td>\n",
       "      <td>48</td>\n",
       "      <td>'existing paid'</td>\n",
       "      <td>radio/tv</td>\n",
       "      <td>5951</td>\n",
       "      <td>&lt;100</td>\n",
       "      <td>1&lt;=X&lt;4</td>\n",
       "      <td>2</td>\n",
       "      <td>'female div/dep/mar'</td>\n",
       "      <td>none</td>\n",
       "      <td>...</td>\n",
       "      <td>'real estate'</td>\n",
       "      <td>22</td>\n",
       "      <td>none</td>\n",
       "      <td>own</td>\n",
       "      <td>1</td>\n",
       "      <td>skilled</td>\n",
       "      <td>1</td>\n",
       "      <td>none</td>\n",
       "      <td>yes</td>\n",
       "      <td>bad</td>\n",
       "    </tr>\n",
       "    <tr>\n",
       "      <th>2</th>\n",
       "      <td>'no checking'</td>\n",
       "      <td>12</td>\n",
       "      <td>'critical/other existing credit'</td>\n",
       "      <td>education</td>\n",
       "      <td>2096</td>\n",
       "      <td>&lt;100</td>\n",
       "      <td>4&lt;=X&lt;7</td>\n",
       "      <td>2</td>\n",
       "      <td>'male single'</td>\n",
       "      <td>none</td>\n",
       "      <td>...</td>\n",
       "      <td>'real estate'</td>\n",
       "      <td>49</td>\n",
       "      <td>none</td>\n",
       "      <td>own</td>\n",
       "      <td>1</td>\n",
       "      <td>'unskilled resident'</td>\n",
       "      <td>2</td>\n",
       "      <td>none</td>\n",
       "      <td>yes</td>\n",
       "      <td>good</td>\n",
       "    </tr>\n",
       "    <tr>\n",
       "      <th>3</th>\n",
       "      <td>&lt;0</td>\n",
       "      <td>42</td>\n",
       "      <td>'existing paid'</td>\n",
       "      <td>furniture/equipment</td>\n",
       "      <td>7882</td>\n",
       "      <td>&lt;100</td>\n",
       "      <td>4&lt;=X&lt;7</td>\n",
       "      <td>2</td>\n",
       "      <td>'male single'</td>\n",
       "      <td>guarantor</td>\n",
       "      <td>...</td>\n",
       "      <td>'life insurance'</td>\n",
       "      <td>45</td>\n",
       "      <td>none</td>\n",
       "      <td>'for free'</td>\n",
       "      <td>1</td>\n",
       "      <td>skilled</td>\n",
       "      <td>2</td>\n",
       "      <td>none</td>\n",
       "      <td>yes</td>\n",
       "      <td>good</td>\n",
       "    </tr>\n",
       "    <tr>\n",
       "      <th>4</th>\n",
       "      <td>&lt;0</td>\n",
       "      <td>24</td>\n",
       "      <td>'delayed previously'</td>\n",
       "      <td>'new car'</td>\n",
       "      <td>4870</td>\n",
       "      <td>&lt;100</td>\n",
       "      <td>1&lt;=X&lt;4</td>\n",
       "      <td>3</td>\n",
       "      <td>'male single'</td>\n",
       "      <td>none</td>\n",
       "      <td>...</td>\n",
       "      <td>'no known property'</td>\n",
       "      <td>53</td>\n",
       "      <td>none</td>\n",
       "      <td>'for free'</td>\n",
       "      <td>2</td>\n",
       "      <td>skilled</td>\n",
       "      <td>2</td>\n",
       "      <td>none</td>\n",
       "      <td>yes</td>\n",
       "      <td>bad</td>\n",
       "    </tr>\n",
       "  </tbody>\n",
       "</table>\n",
       "<p>5 rows × 21 columns</p>\n",
       "</div>"
      ],
      "text/plain": [
       "  checking_status  duration                    credit_history  \\\n",
       "0              <0         6  'critical/other existing credit'   \n",
       "1        0<=X<200        48                   'existing paid'   \n",
       "2   'no checking'        12  'critical/other existing credit'   \n",
       "3              <0        42                   'existing paid'   \n",
       "4              <0        24              'delayed previously'   \n",
       "\n",
       "               purpose  credit_amount      savings_status employment  \\\n",
       "0             radio/tv           1169  'no known savings'        >=7   \n",
       "1             radio/tv           5951                <100     1<=X<4   \n",
       "2            education           2096                <100     4<=X<7   \n",
       "3  furniture/equipment           7882                <100     4<=X<7   \n",
       "4            'new car'           4870                <100     1<=X<4   \n",
       "\n",
       "   installment_commitment       personal_status other_parties  ...  \\\n",
       "0                       4         'male single'          none  ...   \n",
       "1                       2  'female div/dep/mar'          none  ...   \n",
       "2                       2         'male single'          none  ...   \n",
       "3                       2         'male single'     guarantor  ...   \n",
       "4                       3         'male single'          none  ...   \n",
       "\n",
       "    property_magnitude age  other_payment_plans     housing existing_credits  \\\n",
       "0        'real estate'  67                 none         own                2   \n",
       "1        'real estate'  22                 none         own                1   \n",
       "2        'real estate'  49                 none         own                1   \n",
       "3     'life insurance'  45                 none  'for free'                1   \n",
       "4  'no known property'  53                 none  'for free'                2   \n",
       "\n",
       "                    job num_dependents  own_telephone foreign_worker class  \n",
       "0               skilled              1            yes            yes  good  \n",
       "1               skilled              1           none            yes   bad  \n",
       "2  'unskilled resident'              2           none            yes  good  \n",
       "3               skilled              2           none            yes  good  \n",
       "4               skilled              2           none            yes   bad  \n",
       "\n",
       "[5 rows x 21 columns]"
      ]
     },
     "execution_count": 2,
     "metadata": {},
     "output_type": "execute_result"
    }
   ],
   "source": [
    "# Importação da base que será utilziada\n",
    "\n",
    "credito = pd.read_csv(r'D:\\Lucas\\Estudos\\Ciência de dados\\31.Prática em Python\\dados\\Credit.csv', sep=',')\n",
    "print(credito.shape)\n",
    "credito.head()"
   ]
  },
  {
   "cell_type": "code",
   "execution_count": 3,
   "id": "75a449f6",
   "metadata": {},
   "outputs": [],
   "source": [
    "# Formato de matriz\n",
    "previsores = credito.iloc[:, 0:20].values\n",
    "classe = credito.iloc[:, 20].values"
   ]
  },
  {
   "cell_type": "code",
   "execution_count": 4,
   "id": "3c86a653",
   "metadata": {},
   "outputs": [
    {
     "data": {
      "text/plain": [
       "array([[2, 2, 1, ..., 0, 1, 1],\n",
       "       [1, 29, 3, ..., 0, 0, 1],\n",
       "       [0, 8, 1, ..., 1, 0, 1],\n",
       "       ...,\n",
       "       [0, 8, 3, ..., 0, 0, 1],\n",
       "       [2, 27, 3, ..., 0, 1, 1],\n",
       "       [1, 27, 1, ..., 0, 0, 1]], dtype=object)"
      ]
     },
     "execution_count": 4,
     "metadata": {},
     "output_type": "execute_result"
    }
   ],
   "source": [
    "# Transformação dos atributos categóricos em atributos numéricos, passando o índice de cada coluna categórica\n",
    "# É necessário criar um objeto para cada atributo categórico, pois na sequência será executado o processo de enconding novamente para o registro do teste\n",
    "# Se forem utilizados objetos diferentes, o número de atribuído a cada valor poderá ser diferente, o que deixará o teste inconsistente\n",
    "\n",
    "# Montei um laço onde é identificado quais colunas tem dados não numéricos para serem transformados, e cria um objeto Label Encoder para cada coluna\n",
    "\n",
    "for i in range(len(previsores[0])):\n",
    "    if (type(previsores[0][i]) != 'int') and (type(previsores[0][i]) != 'float'):\n",
    "        globals().__setitem__('labelencoder'+str(i), LabelEncoder())\n",
    "        previsores[:, i] = globals()['labelencoder'+str(i)].fit_transform(previsores[:, i])\n",
    "        \n",
    "previsores"
   ]
  },
  {
   "cell_type": "code",
   "execution_count": 5,
   "id": "79dc418d",
   "metadata": {},
   "outputs": [],
   "source": [
    "# Divisão da base em treinamento e teste\n",
    "\n",
    "X_treinamento, X_teste, Y_treinamento, Y_teste = train_test_split (previsores,\n",
    "                                                                  classe,\n",
    "                                                                  test_size = 0.3,\n",
    "                                                                  random_state = 0)"
   ]
  },
  {
   "cell_type": "code",
   "execution_count": 6,
   "id": "8c9c2728",
   "metadata": {},
   "outputs": [
    {
     "data": {
      "text/html": [
       "<style>#sk-container-id-1 {color: black;background-color: white;}#sk-container-id-1 pre{padding: 0;}#sk-container-id-1 div.sk-toggleable {background-color: white;}#sk-container-id-1 label.sk-toggleable__label {cursor: pointer;display: block;width: 100%;margin-bottom: 0;padding: 0.3em;box-sizing: border-box;text-align: center;}#sk-container-id-1 label.sk-toggleable__label-arrow:before {content: \"▸\";float: left;margin-right: 0.25em;color: #696969;}#sk-container-id-1 label.sk-toggleable__label-arrow:hover:before {color: black;}#sk-container-id-1 div.sk-estimator:hover label.sk-toggleable__label-arrow:before {color: black;}#sk-container-id-1 div.sk-toggleable__content {max-height: 0;max-width: 0;overflow: hidden;text-align: left;background-color: #f0f8ff;}#sk-container-id-1 div.sk-toggleable__content pre {margin: 0.2em;color: black;border-radius: 0.25em;background-color: #f0f8ff;}#sk-container-id-1 input.sk-toggleable__control:checked~div.sk-toggleable__content {max-height: 200px;max-width: 100%;overflow: auto;}#sk-container-id-1 input.sk-toggleable__control:checked~label.sk-toggleable__label-arrow:before {content: \"▾\";}#sk-container-id-1 div.sk-estimator input.sk-toggleable__control:checked~label.sk-toggleable__label {background-color: #d4ebff;}#sk-container-id-1 div.sk-label input.sk-toggleable__control:checked~label.sk-toggleable__label {background-color: #d4ebff;}#sk-container-id-1 input.sk-hidden--visually {border: 0;clip: rect(1px 1px 1px 1px);clip: rect(1px, 1px, 1px, 1px);height: 1px;margin: -1px;overflow: hidden;padding: 0;position: absolute;width: 1px;}#sk-container-id-1 div.sk-estimator {font-family: monospace;background-color: #f0f8ff;border: 1px dotted black;border-radius: 0.25em;box-sizing: border-box;margin-bottom: 0.5em;}#sk-container-id-1 div.sk-estimator:hover {background-color: #d4ebff;}#sk-container-id-1 div.sk-parallel-item::after {content: \"\";width: 100%;border-bottom: 1px solid gray;flex-grow: 1;}#sk-container-id-1 div.sk-label:hover label.sk-toggleable__label {background-color: #d4ebff;}#sk-container-id-1 div.sk-serial::before {content: \"\";position: absolute;border-left: 1px solid gray;box-sizing: border-box;top: 0;bottom: 0;left: 50%;z-index: 0;}#sk-container-id-1 div.sk-serial {display: flex;flex-direction: column;align-items: center;background-color: white;padding-right: 0.2em;padding-left: 0.2em;position: relative;}#sk-container-id-1 div.sk-item {position: relative;z-index: 1;}#sk-container-id-1 div.sk-parallel {display: flex;align-items: stretch;justify-content: center;background-color: white;position: relative;}#sk-container-id-1 div.sk-item::before, #sk-container-id-1 div.sk-parallel-item::before {content: \"\";position: absolute;border-left: 1px solid gray;box-sizing: border-box;top: 0;bottom: 0;left: 50%;z-index: -1;}#sk-container-id-1 div.sk-parallel-item {display: flex;flex-direction: column;z-index: 1;position: relative;background-color: white;}#sk-container-id-1 div.sk-parallel-item:first-child::after {align-self: flex-end;width: 50%;}#sk-container-id-1 div.sk-parallel-item:last-child::after {align-self: flex-start;width: 50%;}#sk-container-id-1 div.sk-parallel-item:only-child::after {width: 0;}#sk-container-id-1 div.sk-dashed-wrapped {border: 1px dashed gray;margin: 0 0.4em 0.5em 0.4em;box-sizing: border-box;padding-bottom: 0.4em;background-color: white;}#sk-container-id-1 div.sk-label label {font-family: monospace;font-weight: bold;display: inline-block;line-height: 1.2em;}#sk-container-id-1 div.sk-label-container {text-align: center;}#sk-container-id-1 div.sk-container {/* jupyter's `normalize.less` sets `[hidden] { display: none; }` but bootstrap.min.css set `[hidden] { display: none !important; }` so we also need the `!important` here to be able to override the default hidden behavior on the sphinx rendered scikit-learn.org. See: https://github.com/scikit-learn/scikit-learn/issues/21755 */display: inline-block !important;position: relative;}#sk-container-id-1 div.sk-text-repr-fallback {display: none;}</style><div id=\"sk-container-id-1\" class=\"sk-top-container\"><div class=\"sk-text-repr-fallback\"><pre>RandomForestClassifier()</pre><b>In a Jupyter environment, please rerun this cell to show the HTML representation or trust the notebook. <br />On GitHub, the HTML representation is unable to render, please try loading this page with nbviewer.org.</b></div><div class=\"sk-container\" hidden><div class=\"sk-item\"><div class=\"sk-estimator sk-toggleable\"><input class=\"sk-toggleable__control sk-hidden--visually\" id=\"sk-estimator-id-1\" type=\"checkbox\" checked><label for=\"sk-estimator-id-1\" class=\"sk-toggleable__label sk-toggleable__label-arrow\">RandomForestClassifier</label><div class=\"sk-toggleable__content\"><pre>RandomForestClassifier()</pre></div></div></div></div></div>"
      ],
      "text/plain": [
       "RandomForestClassifier()"
      ]
     },
     "execution_count": 6,
     "metadata": {},
     "output_type": "execute_result"
    }
   ],
   "source": [
    "# Criando o modelo\n",
    "\n",
    "floresta = RandomForestClassifier(n_estimators = 100)\n",
    "floresta.fit(X_treinamento, Y_treinamento)"
   ]
  },
  {
   "cell_type": "code",
   "execution_count": 7,
   "id": "e6b000b4",
   "metadata": {},
   "outputs": [
    {
     "data": {
      "text/plain": [
       "[DecisionTreeClassifier(max_features='sqrt', random_state=1477193717),\n",
       " DecisionTreeClassifier(max_features='sqrt', random_state=2000983695),\n",
       " DecisionTreeClassifier(max_features='sqrt', random_state=1003314541),\n",
       " DecisionTreeClassifier(max_features='sqrt', random_state=1486426399),\n",
       " DecisionTreeClassifier(max_features='sqrt', random_state=1184425127),\n",
       " DecisionTreeClassifier(max_features='sqrt', random_state=267443688),\n",
       " DecisionTreeClassifier(max_features='sqrt', random_state=1836077953),\n",
       " DecisionTreeClassifier(max_features='sqrt', random_state=2100523417),\n",
       " DecisionTreeClassifier(max_features='sqrt', random_state=1338406045),\n",
       " DecisionTreeClassifier(max_features='sqrt', random_state=1675306270),\n",
       " DecisionTreeClassifier(max_features='sqrt', random_state=911814438),\n",
       " DecisionTreeClassifier(max_features='sqrt', random_state=693843588),\n",
       " DecisionTreeClassifier(max_features='sqrt', random_state=1435748230),\n",
       " DecisionTreeClassifier(max_features='sqrt', random_state=129849494),\n",
       " DecisionTreeClassifier(max_features='sqrt', random_state=1240488535),\n",
       " DecisionTreeClassifier(max_features='sqrt', random_state=1993730460),\n",
       " DecisionTreeClassifier(max_features='sqrt', random_state=196518554),\n",
       " DecisionTreeClassifier(max_features='sqrt', random_state=1708880586),\n",
       " DecisionTreeClassifier(max_features='sqrt', random_state=2013692231),\n",
       " DecisionTreeClassifier(max_features='sqrt', random_state=1313016959),\n",
       " DecisionTreeClassifier(max_features='sqrt', random_state=2057183799),\n",
       " DecisionTreeClassifier(max_features='sqrt', random_state=1159608609),\n",
       " DecisionTreeClassifier(max_features='sqrt', random_state=2120151519),\n",
       " DecisionTreeClassifier(max_features='sqrt', random_state=913139025),\n",
       " DecisionTreeClassifier(max_features='sqrt', random_state=1445906027),\n",
       " DecisionTreeClassifier(max_features='sqrt', random_state=322002319),\n",
       " DecisionTreeClassifier(max_features='sqrt', random_state=665777726),\n",
       " DecisionTreeClassifier(max_features='sqrt', random_state=136328945),\n",
       " DecisionTreeClassifier(max_features='sqrt', random_state=2031957609),\n",
       " DecisionTreeClassifier(max_features='sqrt', random_state=934733490),\n",
       " DecisionTreeClassifier(max_features='sqrt', random_state=1467806746),\n",
       " DecisionTreeClassifier(max_features='sqrt', random_state=101938944),\n",
       " DecisionTreeClassifier(max_features='sqrt', random_state=688787593),\n",
       " DecisionTreeClassifier(max_features='sqrt', random_state=1985787772),\n",
       " DecisionTreeClassifier(max_features='sqrt', random_state=23959258),\n",
       " DecisionTreeClassifier(max_features='sqrt', random_state=1678605136),\n",
       " DecisionTreeClassifier(max_features='sqrt', random_state=253536363),\n",
       " DecisionTreeClassifier(max_features='sqrt', random_state=517332509),\n",
       " DecisionTreeClassifier(max_features='sqrt', random_state=301144579),\n",
       " DecisionTreeClassifier(max_features='sqrt', random_state=599675957),\n",
       " DecisionTreeClassifier(max_features='sqrt', random_state=1611225249),\n",
       " DecisionTreeClassifier(max_features='sqrt', random_state=1428767936),\n",
       " DecisionTreeClassifier(max_features='sqrt', random_state=1162027409),\n",
       " DecisionTreeClassifier(max_features='sqrt', random_state=1533071863),\n",
       " DecisionTreeClassifier(max_features='sqrt', random_state=1069513950),\n",
       " DecisionTreeClassifier(max_features='sqrt', random_state=183183717),\n",
       " DecisionTreeClassifier(max_features='sqrt', random_state=902545233),\n",
       " DecisionTreeClassifier(max_features='sqrt', random_state=1791145201),\n",
       " DecisionTreeClassifier(max_features='sqrt', random_state=1429647835),\n",
       " DecisionTreeClassifier(max_features='sqrt', random_state=344902353),\n",
       " DecisionTreeClassifier(max_features='sqrt', random_state=1495241198),\n",
       " DecisionTreeClassifier(max_features='sqrt', random_state=1038508992),\n",
       " DecisionTreeClassifier(max_features='sqrt', random_state=1627369157),\n",
       " DecisionTreeClassifier(max_features='sqrt', random_state=568054172),\n",
       " DecisionTreeClassifier(max_features='sqrt', random_state=1820195462),\n",
       " DecisionTreeClassifier(max_features='sqrt', random_state=1417613617),\n",
       " DecisionTreeClassifier(max_features='sqrt', random_state=988774573),\n",
       " DecisionTreeClassifier(max_features='sqrt', random_state=1992561939),\n",
       " DecisionTreeClassifier(max_features='sqrt', random_state=1536754857),\n",
       " DecisionTreeClassifier(max_features='sqrt', random_state=1518552375),\n",
       " DecisionTreeClassifier(max_features='sqrt', random_state=1251410732),\n",
       " DecisionTreeClassifier(max_features='sqrt', random_state=632593542),\n",
       " DecisionTreeClassifier(max_features='sqrt', random_state=790106179),\n",
       " DecisionTreeClassifier(max_features='sqrt', random_state=2137279850),\n",
       " DecisionTreeClassifier(max_features='sqrt', random_state=756402489),\n",
       " DecisionTreeClassifier(max_features='sqrt', random_state=670225180),\n",
       " DecisionTreeClassifier(max_features='sqrt', random_state=28237837),\n",
       " DecisionTreeClassifier(max_features='sqrt', random_state=1075653242),\n",
       " DecisionTreeClassifier(max_features='sqrt', random_state=692889362),\n",
       " DecisionTreeClassifier(max_features='sqrt', random_state=259528424),\n",
       " DecisionTreeClassifier(max_features='sqrt', random_state=977133766),\n",
       " DecisionTreeClassifier(max_features='sqrt', random_state=919599947),\n",
       " DecisionTreeClassifier(max_features='sqrt', random_state=613075643),\n",
       " DecisionTreeClassifier(max_features='sqrt', random_state=1822900091),\n",
       " DecisionTreeClassifier(max_features='sqrt', random_state=263098642),\n",
       " DecisionTreeClassifier(max_features='sqrt', random_state=1134576312),\n",
       " DecisionTreeClassifier(max_features='sqrt', random_state=1362350137),\n",
       " DecisionTreeClassifier(max_features='sqrt', random_state=115405681),\n",
       " DecisionTreeClassifier(max_features='sqrt', random_state=597584449),\n",
       " DecisionTreeClassifier(max_features='sqrt', random_state=872131780),\n",
       " DecisionTreeClassifier(max_features='sqrt', random_state=2014352272),\n",
       " DecisionTreeClassifier(max_features='sqrt', random_state=2082430482),\n",
       " DecisionTreeClassifier(max_features='sqrt', random_state=1204576160),\n",
       " DecisionTreeClassifier(max_features='sqrt', random_state=965829690),\n",
       " DecisionTreeClassifier(max_features='sqrt', random_state=360428012),\n",
       " DecisionTreeClassifier(max_features='sqrt', random_state=724066738),\n",
       " DecisionTreeClassifier(max_features='sqrt', random_state=1827544997),\n",
       " DecisionTreeClassifier(max_features='sqrt', random_state=720742123),\n",
       " DecisionTreeClassifier(max_features='sqrt', random_state=1985330775),\n",
       " DecisionTreeClassifier(max_features='sqrt', random_state=506815192),\n",
       " DecisionTreeClassifier(max_features='sqrt', random_state=186770704),\n",
       " DecisionTreeClassifier(max_features='sqrt', random_state=74811658),\n",
       " DecisionTreeClassifier(max_features='sqrt', random_state=1706771104),\n",
       " DecisionTreeClassifier(max_features='sqrt', random_state=1678513444),\n",
       " DecisionTreeClassifier(max_features='sqrt', random_state=1030232957),\n",
       " DecisionTreeClassifier(max_features='sqrt', random_state=1535477763),\n",
       " DecisionTreeClassifier(max_features='sqrt', random_state=952731808),\n",
       " DecisionTreeClassifier(max_features='sqrt', random_state=1611201320),\n",
       " DecisionTreeClassifier(max_features='sqrt', random_state=2001921037),\n",
       " DecisionTreeClassifier(max_features='sqrt', random_state=366412936)]"
      ]
     },
     "execution_count": 7,
     "metadata": {},
     "output_type": "execute_result"
    }
   ],
   "source": [
    "floresta.estimators_"
   ]
  },
  {
   "cell_type": "code",
   "execution_count": 8,
   "id": "27fe6862",
   "metadata": {},
   "outputs": [
    {
     "data": {
      "text/plain": [
       "array([[ 40,  46],\n",
       "       [ 15, 199]], dtype=int64)"
      ]
     },
     "execution_count": 8,
     "metadata": {},
     "output_type": "execute_result"
    }
   ],
   "source": [
    "# Realizando previsões para os dados de teste e calculando a matriz de confusão\n",
    "\n",
    "previsoes = floresta.predict(X_teste)\n",
    "confusao = confusion_matrix(Y_teste, previsoes)\n",
    "confusao"
   ]
  },
  {
   "cell_type": "code",
   "execution_count": 9,
   "id": "834558f2",
   "metadata": {},
   "outputs": [
    {
     "data": {
      "image/png": "[encoded data removed]",
      "text/plain": [
       "<Figure size 800x550 with 1 Axes>"
      ]
     },
     "metadata": {},
     "output_type": "display_data"
    },
    {
     "data": {
      "text/plain": [
       "<AxesSubplot:title={'center':'RandomForestClassifier Confusion Matrix'}, xlabel='Predicted Class', ylabel='True Class'>"
      ]
     },
     "execution_count": 9,
     "metadata": {},
     "output_type": "execute_result"
    }
   ],
   "source": [
    "v = ConfusionMatrix(floresta, is_fitted = True)\n",
    "v.fit(X_treinamento, Y_treinamento)\n",
    "v.score(X_teste, Y_teste)\n",
    "v.show()"
   ]
  }
 ],
 "metadata": {
  "kernelspec": {
   "display_name": "Python 3 (ipykernel)",
   "language": "python",
   "name": "python3"
  },
  "language_info": {
   "codemirror_mode": {
    "name": "ipython",
    "version": 3
   },
   "file_extension": ".py",
   "mimetype": "text/x-python",
   "name": "python",
   "nbconvert_exporter": "python",
   "pygments_lexer": "ipython3",
   "version": "3.8.11"
  }
 },
 "nbformat": 4,
 "nbformat_minor": 5
}

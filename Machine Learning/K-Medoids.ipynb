{
 "cells": [
  {
   "cell_type": "code",
   "execution_count": 2,
   "id": "5b12188e",
   "metadata": {},
   "outputs": [],
   "source": [
    "# Importando as bibliotecas que serão utilizadas\n",
    "\n",
    "from sklearn import datasets\n",
    "from sklearn.metrics import confusion_matrix\n",
    "import numpy as np\n",
    "from pyclustering.cluster.kmedoids import kmedoids\n",
    "from pyclustering.cluster import cluster_visualizer"
   ]
  },
  {
   "cell_type": "code",
   "execution_count": 3,
   "id": "37313b70",
   "metadata": {},
   "outputs": [],
   "source": [
    "# Importando a base de dados que será utilizada\n",
    "\n",
    "iris = datasets.load_iris()"
   ]
  },
  {
   "cell_type": "code",
   "execution_count": 4,
   "id": "be148e05",
   "metadata": {},
   "outputs": [
    {
     "data": {
      "text/plain": [
       "[3, 12, 20]"
      ]
     },
     "execution_count": 4,
     "metadata": {},
     "output_type": "execute_result"
    }
   ],
   "source": [
    "# Configuração dos parâmetros do k-medoids, utilizando somente as duas primeiras colunas da base de dados apenas para visualizar os gráficos do cluster\n",
    "# 3, 12 e 20 são indices aleatórios de registro da base de dados\n",
    "\n",
    "cluster = kmedoids(iris.data[:, 0:2], [3, 12, 20])\n",
    "\n",
    "# Visualização dos pontos escolhidos\n",
    "cluster.get_medoids()"
   ]
  },
  {
   "cell_type": "code",
   "execution_count": null,
   "id": "c25e4f75",
   "metadata": {},
   "outputs": [],
   "source": [
    "# Aplicação do algoritmo para o agrupamento, obtenção da previsão e visualizaç~çao dos medoides\n",
    "\n",
    "cluster.process()\n",
    "\n",
    "previsoes = cluster.get_clusters()\n",
    "medoids = cluster.get_medoids()\n",
    "\n",
    "#lista de 3 elementos, com os índices dos registros do cluster\n",
    "\n",
    "previsoes"
   ]
  }
 ],
 "metadata": {
  "kernelspec": {
   "display_name": "Python 3 (ipykernel)",
   "language": "python",
   "name": "python3"
  },
  "language_info": {
   "codemirror_mode": {
    "name": "ipython",
    "version": 3
   },
   "file_extension": ".py",
   "mimetype": "text/x-python",
   "name": "python",
   "nbconvert_exporter": "python",
   "pygments_lexer": "ipython3",
   "version": "3.8.11"
  }
 },
 "nbformat": 4,
 "nbformat_minor": 5
}

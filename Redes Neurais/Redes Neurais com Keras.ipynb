{
 "cells": [
  {
   "cell_type": "code",
   "execution_count": 1,
   "id": "c24be51a",
   "metadata": {},
   "outputs": [],
   "source": [
    "# Importando as bibliotecas a serem utilizadas\n",
    "\n",
    "from sklearn import datasets\n",
    "from sklearn.model_selection import train_test_split\n",
    "from sklearn.metrics import confusion_matrix\n",
    "from sklearn.metrics import ConfusionMatrixDisplay\n",
    "\n",
    "import matplotlib.pyplot as plt\n",
    "\n",
    "from keras.models import Sequential\n",
    "from keras.layers import Dense\n",
    "from keras.utils import np_utils\n",
    "from keras.utils.vis_utils import plot_model\n",
    "\n",
    "import numpy as np"
   ]
  },
  {
   "cell_type": "code",
   "execution_count": null,
   "id": "d562b48c",
   "metadata": {},
   "outputs": [],
   "source": [
    "# Importando a base de dados que será utilizada\n",
    "\n",
    "base = datasets.load_iris()\n",
    "previsores = base.data\n",
    "classe = base.target\n",
    "classe"
   ]
  },
  {
   "cell_type": "code",
   "execution_count": null,
   "id": "631c7b8d",
   "metadata": {},
   "outputs": [],
   "source": [
    "# Transformação da classe para o formato \"dummy\", pois será feita uma rede neural com 3 neurônios na camada de saída\n",
    "\n",
    "classe_dummy = np_utils.to_categorical(classe)\n",
    "classe_dummy"
   ]
  },
  {
   "cell_type": "code",
   "execution_count": 4,
   "id": "1b7e8d03",
   "metadata": {},
   "outputs": [],
   "source": [
    "X_treinamento, X_teste, Y_treinamento, Y_teste = train_test_split(previsores, classe_dummy, test_size = 0.3, random_state = 0)"
   ]
  },
  {
   "cell_type": "code",
   "execution_count": 5,
   "id": "09cbe95e",
   "metadata": {},
   "outputs": [],
   "source": [
    "# Criação da estrutura da rede neural com a classe Sequential (Com essa classe as camadas são adicionadas de forma sequencial)\n",
    "modelo = Sequential()\n",
    "\n",
    "# Primeira camada oculta, 5 neuronios, 4 neuronios de entrada (Funçã dense faz com que todos os neurônios conectem com a camada seguinte)\n",
    "modelo.add(Dense(units=5, input_dim=4))\n",
    "\n",
    "# Segunda camada oculta\n",
    "modelo.add(Dense(units = 4))\n",
    "\n",
    "# Terceira camada oculta\n",
    "# Função softmax porque temos um problema de classificação com mais de duas classes\n",
    "# (é gerada uma probabilidade em cada neurônio)\n",
    "modelo.add(Dense(units = 3, activation = 'softmax'))"
   ]
  },
  {
   "cell_type": "code",
   "execution_count": 6,
   "id": "f9631760",
   "metadata": {},
   "outputs": [
    {
     "name": "stdout",
     "output_type": "stream",
     "text": [
      "Model: \"sequential\"\n",
      "_________________________________________________________________\n",
      " Layer (type)                Output Shape              Param #   \n",
      "=================================================================\n",
      " dense (Dense)               (None, 5)                 25        \n",
      "                                                                 \n",
      " dense_1 (Dense)             (None, 4)                 24        \n",
      "                                                                 \n",
      " dense_2 (Dense)             (None, 3)                 15        \n",
      "                                                                 \n",
      "=================================================================\n",
      "Total params: 64\n",
      "Trainable params: 64\n",
      "Non-trainable params: 0\n",
      "_________________________________________________________________\n"
     ]
    }
   ],
   "source": [
    "modelo.summary()"
   ]
  },
  {
   "cell_type": "code",
   "execution_count": null,
   "id": "cf7f30d0",
   "metadata": {},
   "outputs": [],
   "source": [
    "# Configuração dos parâmetros da rede neural (adam = algoritmo para atualizar os pesos e loss = cálculo do erro)\n",
    "modelo.compile(optimizer = 'adam', loss = 'categorical_crossentropy', metrics = ['accuracy'])\n",
    "\n",
    "# Treinamento\n",
    "modelo.fit(X_treinamento, Y_treinamento, epochs = 1000, validation_data = (X_teste, Y_teste))"
   ]
  },
  {
   "cell_type": "code",
   "execution_count": null,
   "id": "fbded2ec",
   "metadata": {},
   "outputs": [],
   "source": [
    "previsoes = modelo.predict(X_teste)\n",
    "previsoes = (previsoes > 0.5)\n",
    "previsoes"
   ]
  },
  {
   "cell_type": "code",
   "execution_count": 9,
   "id": "06eb91ab",
   "metadata": {},
   "outputs": [],
   "source": [
    "Y_teste_matrix = [np.argmax(t) for t in Y_teste]\n",
    "Y_previsao_matrix = [np.argmax(t) for t in previsoes]"
   ]
  },
  {
   "cell_type": "code",
   "execution_count": 10,
   "id": "9e70ff39",
   "metadata": {},
   "outputs": [
    {
     "data": {
      "text/plain": [
       "array([[16,  0,  0],\n",
       "       [ 0, 17,  1],\n",
       "       [ 0,  0, 11]], dtype=int64)"
      ]
     },
     "execution_count": 10,
     "metadata": {},
     "output_type": "execute_result"
    }
   ],
   "source": [
    "# Gerando a matriz de confusão\n",
    "confusao = confusion_matrix(Y_teste_matrix, Y_previsao_matrix)\n",
    "confusao"
   ]
  },
  {
   "cell_type": "code",
   "execution_count": 21,
   "id": "2b88abf9",
   "metadata": {},
   "outputs": [
    {
     "data": {
      "image/png": "[encoded data removed]",
      "text/plain": [
       "<Figure size 640x480 with 2 Axes>"
      ]
     },
     "metadata": {},
     "output_type": "display_data"
    }
   ],
   "source": [
    "disp = ConfusionMatrixDisplay(confusao)\n",
    "disp.plot()\n",
    "plt.tick_params(axis=u'both', which=u'both',length=0)\n",
    "plt.show()"
   ]
  },
  {
   "cell_type": "code",
   "execution_count": 25,
   "id": "f49c5d1e",
   "metadata": {},
   "outputs": [
    {
     "data": {
      "image/png": "[encoded data removed]",
      "text/plain": [
       "<IPython.core.display.Image object>"
      ]
     },
     "execution_count": 25,
     "metadata": {},
     "output_type": "execute_result"
    }
   ],
   "source": [
    "plot_model(modelo, show_shapes=True, show_dtype=True, show_layer_names=False, expand_nested=True, show_layer_activations=True)"
   ]
  }
 ],
 "metadata": {
  "kernelspec": {
   "display_name": "Python 3 (ipykernel)",
   "language": "python",
   "name": "python3"
  },
  "language_info": {
   "codemirror_mode": {
    "name": "ipython",
    "version": 3
   },
   "file_extension": ".py",
   "mimetype": "text/x-python",
   "name": "python",
   "nbconvert_exporter": "python",
   "pygments_lexer": "ipython3",
   "version": "3.8.16"
  }
 },
 "nbformat": 4,
 "nbformat_minor": 5
}
